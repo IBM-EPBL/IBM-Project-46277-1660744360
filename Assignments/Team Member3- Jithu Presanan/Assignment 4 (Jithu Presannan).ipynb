{
 "cells": [
  {
   "cell_type": "markdown",
   "id": "d8ece000",
   "metadata": {},
   "source": [
    "# Assignment 4\n",
    "\n",
    "# Team Id PNT2022TMID34405\n",
    "\n",
    "## Name: Jithu Presannan"
   ]
  },
  {
   "cell_type": "code",
   "execution_count": 2,
   "id": "d184f13d",
   "metadata": {},
   "outputs": [],
   "source": [
    "import numpy as np\n",
    "import pandas as pd\n",
    "import matplotlib.pyplot as plt\n",
    "import seaborn as sns\n",
    "import sklearn"
   ]
  },
  {
   "cell_type": "markdown",
   "id": "3ac794af",
   "metadata": {},
   "source": [
    "# 2. Loading Dataset"
   ]
  },
  {
   "cell_type": "code",
   "execution_count": 3,
   "id": "c46d65ed",
   "metadata": {},
   "outputs": [],
   "source": [
    "ds = pd.read_csv(r\"D:\\IBM\\Mall_Customers.csv\")"
   ]
  },
  {
   "cell_type": "code",
   "execution_count": 4,
   "id": "af814f67",
   "metadata": {},
   "outputs": [
    {
     "data": {
      "text/html": [
       "<div>\n",
       "<style scoped>\n",
       "    .dataframe tbody tr th:only-of-type {\n",
       "        vertical-align: middle;\n",
       "    }\n",
       "\n",
       "    .dataframe tbody tr th {\n",
       "        vertical-align: top;\n",
       "    }\n",
       "\n",
       "    .dataframe thead th {\n",
       "        text-align: right;\n",
       "    }\n",
       "</style>\n",
       "<table border=\"1\" class=\"dataframe\">\n",
       "  <thead>\n",
       "    <tr style=\"text-align: right;\">\n",
       "      <th></th>\n",
       "      <th>CustomerID</th>\n",
       "      <th>Gender</th>\n",
       "      <th>Age</th>\n",
       "      <th>Annual Income (k$)</th>\n",
       "      <th>Spending Score (1-100)</th>\n",
       "    </tr>\n",
       "  </thead>\n",
       "  <tbody>\n",
       "    <tr>\n",
       "      <th>0</th>\n",
       "      <td>1</td>\n",
       "      <td>Male</td>\n",
       "      <td>19</td>\n",
       "      <td>15</td>\n",
       "      <td>39</td>\n",
       "    </tr>\n",
       "    <tr>\n",
       "      <th>1</th>\n",
       "      <td>2</td>\n",
       "      <td>Male</td>\n",
       "      <td>21</td>\n",
       "      <td>15</td>\n",
       "      <td>81</td>\n",
       "    </tr>\n",
       "    <tr>\n",
       "      <th>2</th>\n",
       "      <td>3</td>\n",
       "      <td>Female</td>\n",
       "      <td>20</td>\n",
       "      <td>16</td>\n",
       "      <td>6</td>\n",
       "    </tr>\n",
       "    <tr>\n",
       "      <th>3</th>\n",
       "      <td>4</td>\n",
       "      <td>Female</td>\n",
       "      <td>23</td>\n",
       "      <td>16</td>\n",
       "      <td>77</td>\n",
       "    </tr>\n",
       "    <tr>\n",
       "      <th>4</th>\n",
       "      <td>5</td>\n",
       "      <td>Female</td>\n",
       "      <td>31</td>\n",
       "      <td>17</td>\n",
       "      <td>40</td>\n",
       "    </tr>\n",
       "  </tbody>\n",
       "</table>\n",
       "</div>"
      ],
      "text/plain": [
       "   CustomerID  Gender  Age  Annual Income (k$)  Spending Score (1-100)\n",
       "0           1    Male   19                  15                      39\n",
       "1           2    Male   21                  15                      81\n",
       "2           3  Female   20                  16                       6\n",
       "3           4  Female   23                  16                      77\n",
       "4           5  Female   31                  17                      40"
      ]
     },
     "execution_count": 4,
     "metadata": {},
     "output_type": "execute_result"
    }
   ],
   "source": [
    "ds.head()"
   ]
  },
  {
   "cell_type": "code",
   "execution_count": 88,
   "id": "08bf9942",
   "metadata": {},
   "outputs": [
    {
     "data": {
      "text/html": [
       "<div>\n",
       "<style scoped>\n",
       "    .dataframe tbody tr th:only-of-type {\n",
       "        vertical-align: middle;\n",
       "    }\n",
       "\n",
       "    .dataframe tbody tr th {\n",
       "        vertical-align: top;\n",
       "    }\n",
       "\n",
       "    .dataframe thead th {\n",
       "        text-align: right;\n",
       "    }\n",
       "</style>\n",
       "<table border=\"1\" class=\"dataframe\">\n",
       "  <thead>\n",
       "    <tr style=\"text-align: right;\">\n",
       "      <th></th>\n",
       "      <th>CustomerID</th>\n",
       "      <th>Gender</th>\n",
       "      <th>Age</th>\n",
       "      <th>annual_income</th>\n",
       "      <th>spending_scores</th>\n",
       "    </tr>\n",
       "  </thead>\n",
       "  <tbody>\n",
       "    <tr>\n",
       "      <th>0</th>\n",
       "      <td>1</td>\n",
       "      <td>1</td>\n",
       "      <td>19</td>\n",
       "      <td>15</td>\n",
       "      <td>39</td>\n",
       "    </tr>\n",
       "    <tr>\n",
       "      <th>1</th>\n",
       "      <td>2</td>\n",
       "      <td>1</td>\n",
       "      <td>21</td>\n",
       "      <td>15</td>\n",
       "      <td>81</td>\n",
       "    </tr>\n",
       "    <tr>\n",
       "      <th>2</th>\n",
       "      <td>3</td>\n",
       "      <td>0</td>\n",
       "      <td>20</td>\n",
       "      <td>16</td>\n",
       "      <td>6</td>\n",
       "    </tr>\n",
       "    <tr>\n",
       "      <th>3</th>\n",
       "      <td>4</td>\n",
       "      <td>0</td>\n",
       "      <td>23</td>\n",
       "      <td>16</td>\n",
       "      <td>77</td>\n",
       "    </tr>\n",
       "    <tr>\n",
       "      <th>4</th>\n",
       "      <td>5</td>\n",
       "      <td>0</td>\n",
       "      <td>31</td>\n",
       "      <td>17</td>\n",
       "      <td>40</td>\n",
       "    </tr>\n",
       "  </tbody>\n",
       "</table>\n",
       "</div>"
      ],
      "text/plain": [
       "   CustomerID  Gender  Age  annual_income  spending_scores\n",
       "0           1       1   19             15               39\n",
       "1           2       1   21             15               81\n",
       "2           3       0   20             16                6\n",
       "3           4       0   23             16               77\n",
       "4           5       0   31             17               40"
      ]
     },
     "execution_count": 88,
     "metadata": {},
     "output_type": "execute_result"
    }
   ],
   "source": [
    "ds.rename(columns={\"Annual Income (k$)\":\"annual_income\",\n",
    "                     \"Spending Score (1-100)\":\"spending_scores\"},inplace=True)\n",
    "ds.head()"
   ]
  },
  {
   "cell_type": "markdown",
   "id": "a3c090a5",
   "metadata": {},
   "source": [
    "# 3.Data Visualizations\n",
    "\n",
    "## i) Univariate Analysis"
   ]
  },
  {
   "cell_type": "code",
   "execution_count": 48,
   "id": "d949f146",
   "metadata": {},
   "outputs": [
    {
     "name": "stderr",
     "output_type": "stream",
     "text": [
      "C:\\ProgramData\\Anaconda3\\lib\\site-packages\\seaborn\\_decorators.py:36: FutureWarning: Pass the following variable as a keyword arg: x. From version 0.12, the only valid positional argument will be `data`, and passing other arguments without an explicit keyword will result in an error or misinterpretation.\n",
      "  warnings.warn(\n"
     ]
    },
    {
     "data": {
      "text/plain": [
       "<AxesSubplot:xlabel='Gender', ylabel='count'>"
      ]
     },
     "execution_count": 48,
     "metadata": {},
     "output_type": "execute_result"
    },
    {
     "data": {
      "image/png": "[encoded data removed]",
      "text/plain": [
       "<Figure size 432x288 with 1 Axes>"
      ]
     },
     "metadata": {
      "needs_background": "light"
     },
     "output_type": "display_data"
    }
   ],
   "source": [
    "#Countplot\n",
    "\n",
    "sns.countplot(ds['Gender'])"
   ]
  },
  {
   "cell_type": "code",
   "execution_count": 49,
   "id": "ffeb4a94",
   "metadata": {},
   "outputs": [
    {
     "data": {
      "text/plain": [
       "(array([112.,   0.,   0.,   0.,   0.,   0.,   0.,   0.,   0.,  88.]),\n",
       " array([0. , 0.1, 0.2, 0.3, 0.4, 0.5, 0.6, 0.7, 0.8, 0.9, 1. ]),\n",
       " <BarContainer object of 10 artists>)"
      ]
     },
     "execution_count": 49,
     "metadata": {},
     "output_type": "execute_result"
    },
    {
     "data": {
      "image/png": "[encoded data removed]",
      "text/plain": [
       "<Figure size 432x288 with 1 Axes>"
      ]
     },
     "metadata": {
      "needs_background": "light"
     },
     "output_type": "display_data"
    }
   ],
   "source": [
    "#Histplot\n",
    "\n",
    "plt.hist(ds['Gender'])"
   ]
  },
  {
   "cell_type": "code",
   "execution_count": 50,
   "id": "1bc43008",
   "metadata": {},
   "outputs": [
    {
     "name": "stderr",
     "output_type": "stream",
     "text": [
      "C:\\ProgramData\\Anaconda3\\lib\\site-packages\\seaborn\\_decorators.py:36: FutureWarning: Pass the following variable as a keyword arg: x. From version 0.12, the only valid positional argument will be `data`, and passing other arguments without an explicit keyword will result in an error or misinterpretation.\n",
      "  warnings.warn(\n"
     ]
    },
    {
     "data": {
      "text/plain": [
       "<AxesSubplot:xlabel='Age'>"
      ]
     },
     "execution_count": 50,
     "metadata": {},
     "output_type": "execute_result"
    },
    {
     "data": {
      "image/png": "[encoded data removed]",
      "text/plain": [
       "<Figure size 432x288 with 1 Axes>"
      ]
     },
     "metadata": {
      "needs_background": "light"
     },
     "output_type": "display_data"
    }
   ],
   "source": [
    "#Boxplot\n",
    "\n",
    "sns.boxplot(ds['Age'])"
   ]
  },
  {
   "cell_type": "code",
   "execution_count": 51,
   "id": "94f19244",
   "metadata": {},
   "outputs": [
    {
     "name": "stderr",
     "output_type": "stream",
     "text": [
      "C:\\ProgramData\\Anaconda3\\lib\\site-packages\\seaborn\\distributions.py:2619: FutureWarning: `distplot` is a deprecated function and will be removed in a future version. Please adapt your code to use either `displot` (a figure-level function with similar flexibility) or `histplot` (an axes-level function for histograms).\n",
      "  warnings.warn(msg, FutureWarning)\n",
      "C:\\ProgramData\\Anaconda3\\lib\\site-packages\\seaborn\\distributions.py:2103: FutureWarning: The `axis` variable is no longer used and will be removed. Instead, assign variables directly to `x` or `y`.\n",
      "  warnings.warn(msg, FutureWarning)\n"
     ]
    },
    {
     "data": {
      "text/plain": [
       "<AxesSubplot:xlabel='Age', ylabel='Density'>"
      ]
     },
     "execution_count": 51,
     "metadata": {},
     "output_type": "execute_result"
    },
    {
     "data": {
      "image/png": "[encoded data removed]",
      "text/plain": [
       "<Figure size 432x288 with 1 Axes>"
      ]
     },
     "metadata": {
      "needs_background": "light"
     },
     "output_type": "display_data"
    }
   ],
   "source": [
    "#Dist plot\n",
    "\n",
    "sns.distplot(ds['Age'],rug=True)"
   ]
  },
  {
   "cell_type": "markdown",
   "id": "b0b5a834",
   "metadata": {},
   "source": [
    "## ii) Bivariate Analysis"
   ]
  },
  {
   "cell_type": "code",
   "execution_count": 52,
   "id": "735b0ab0",
   "metadata": {},
   "outputs": [
    {
     "data": {
      "text/plain": [
       "<AxesSubplot:xlabel='Gender', ylabel='Age'>"
      ]
     },
     "execution_count": 52,
     "metadata": {},
     "output_type": "execute_result"
    },
    {
     "data": {
      "image/png": "[encoded data removed]",
      "text/plain": [
       "<Figure size 432x288 with 1 Axes>"
      ]
     },
     "metadata": {
      "needs_background": "light"
     },
     "output_type": "display_data"
    }
   ],
   "source": [
    "#Bar plot\n",
    "\n",
    "sns.barplot(data=ds.head(50), x=\"Gender\", y=\"Age\")"
   ]
  },
  {
   "cell_type": "code",
   "execution_count": 53,
   "id": "7882f9e6",
   "metadata": {},
   "outputs": [
    {
     "data": {
      "text/plain": [
       "<AxesSubplot:xlabel='Gender', ylabel='Age'>"
      ]
     },
     "execution_count": 53,
     "metadata": {},
     "output_type": "execute_result"
    },
    {
     "data": {
      "image/png": "[encoded data removed]",
      "text/plain": [
       "<Figure size 432x288 with 1 Axes>"
      ]
     },
     "metadata": {
      "needs_background": "light"
     },
     "output_type": "display_data"
    }
   ],
   "source": [
    "##Line Plot\n",
    "\n",
    "sns.lineplot(x=ds['Gender'],y=ds['Age'])"
   ]
  },
  {
   "cell_type": "code",
   "execution_count": 54,
   "id": "d9d16154",
   "metadata": {},
   "outputs": [
    {
     "data": {
      "text/plain": [
       "<AxesSubplot:xlabel='Gender', ylabel='Age'>"
      ]
     },
     "execution_count": 54,
     "metadata": {},
     "output_type": "execute_result"
    },
    {
     "data": {
      "image/png": "[encoded data removed]",
      "text/plain": [
       "<Figure size 432x288 with 1 Axes>"
      ]
     },
     "metadata": {
      "needs_background": "light"
     },
     "output_type": "display_data"
    }
   ],
   "source": [
    "#Scatter plot\n",
    "\n",
    "sns.scatterplot(x=ds['Gender'],y=ds['Age'])"
   ]
  },
  {
   "cell_type": "markdown",
   "id": "500d9ccb",
   "metadata": {},
   "source": [
    "## iii) Multi variate Analysis"
   ]
  },
  {
   "cell_type": "code",
   "execution_count": 55,
   "id": "64696b67",
   "metadata": {},
   "outputs": [
    {
     "data": {
      "text/plain": [
       "<seaborn.axisgrid.PairGrid at 0x1bcb9db67f0>"
      ]
     },
     "execution_count": 55,
     "metadata": {},
     "output_type": "execute_result"
    },
    {
     "data": {
      "image/png": "[encoded data removed]",
      "text/plain": [
       "<Figure size 675x900 with 30 Axes>"
      ]
     },
     "metadata": {
      "needs_background": "light"
     },
     "output_type": "display_data"
    }
   ],
   "source": [
    "#Pairplot\n",
    "\n",
    "sns.pairplot(data=ds,aspect=.75)"
   ]
  },
  {
   "cell_type": "code",
   "execution_count": 56,
   "id": "1cda0098",
   "metadata": {},
   "outputs": [
    {
     "data": {
      "text/plain": [
       "<AxesSubplot:>"
      ]
     },
     "execution_count": 56,
     "metadata": {},
     "output_type": "execute_result"
    },
    {
     "data": {
      "image/png": "[encoded data removed]",
      "text/plain": [
       "<Figure size 432x288 with 2 Axes>"
      ]
     },
     "metadata": {
      "needs_background": "light"
     },
     "output_type": "display_data"
    }
   ],
   "source": [
    "#Heatmap\n",
    "\n",
    "sns.heatmap(ds.corr(), annot = True)"
   ]
  },
  {
   "cell_type": "markdown",
   "id": "6c0b980a",
   "metadata": {},
   "source": [
    "# 4. Descriptive Statistics"
   ]
  },
  {
   "cell_type": "code",
   "execution_count": 57,
   "id": "c2cd450c",
   "metadata": {},
   "outputs": [
    {
     "data": {
      "text/html": [
       "<div>\n",
       "<style scoped>\n",
       "    .dataframe tbody tr th:only-of-type {\n",
       "        vertical-align: middle;\n",
       "    }\n",
       "\n",
       "    .dataframe tbody tr th {\n",
       "        vertical-align: top;\n",
       "    }\n",
       "\n",
       "    .dataframe thead th {\n",
       "        text-align: right;\n",
       "    }\n",
       "</style>\n",
       "<table border=\"1\" class=\"dataframe\">\n",
       "  <thead>\n",
       "    <tr style=\"text-align: right;\">\n",
       "      <th></th>\n",
       "      <th>CustomerID</th>\n",
       "      <th>Gender</th>\n",
       "      <th>Age</th>\n",
       "      <th>annual_income</th>\n",
       "      <th>spending_scores</th>\n",
       "    </tr>\n",
       "  </thead>\n",
       "  <tbody>\n",
       "    <tr>\n",
       "      <th>count</th>\n",
       "      <td>200.000000</td>\n",
       "      <td>200.000000</td>\n",
       "      <td>200.000000</td>\n",
       "      <td>200.000000</td>\n",
       "      <td>200.000000</td>\n",
       "    </tr>\n",
       "    <tr>\n",
       "      <th>mean</th>\n",
       "      <td>100.500000</td>\n",
       "      <td>0.440000</td>\n",
       "      <td>38.850000</td>\n",
       "      <td>60.560000</td>\n",
       "      <td>50.200000</td>\n",
       "    </tr>\n",
       "    <tr>\n",
       "      <th>std</th>\n",
       "      <td>57.879185</td>\n",
       "      <td>0.497633</td>\n",
       "      <td>13.969007</td>\n",
       "      <td>26.264721</td>\n",
       "      <td>25.823522</td>\n",
       "    </tr>\n",
       "    <tr>\n",
       "      <th>min</th>\n",
       "      <td>1.000000</td>\n",
       "      <td>0.000000</td>\n",
       "      <td>18.000000</td>\n",
       "      <td>15.000000</td>\n",
       "      <td>1.000000</td>\n",
       "    </tr>\n",
       "    <tr>\n",
       "      <th>25%</th>\n",
       "      <td>50.750000</td>\n",
       "      <td>0.000000</td>\n",
       "      <td>28.750000</td>\n",
       "      <td>41.500000</td>\n",
       "      <td>34.750000</td>\n",
       "    </tr>\n",
       "    <tr>\n",
       "      <th>50%</th>\n",
       "      <td>100.500000</td>\n",
       "      <td>0.000000</td>\n",
       "      <td>36.000000</td>\n",
       "      <td>61.500000</td>\n",
       "      <td>50.000000</td>\n",
       "    </tr>\n",
       "    <tr>\n",
       "      <th>75%</th>\n",
       "      <td>150.250000</td>\n",
       "      <td>1.000000</td>\n",
       "      <td>49.000000</td>\n",
       "      <td>78.000000</td>\n",
       "      <td>73.000000</td>\n",
       "    </tr>\n",
       "    <tr>\n",
       "      <th>max</th>\n",
       "      <td>200.000000</td>\n",
       "      <td>1.000000</td>\n",
       "      <td>70.000000</td>\n",
       "      <td>137.000000</td>\n",
       "      <td>99.000000</td>\n",
       "    </tr>\n",
       "  </tbody>\n",
       "</table>\n",
       "</div>"
      ],
      "text/plain": [
       "       CustomerID      Gender         Age  annual_income  spending_scores\n",
       "count  200.000000  200.000000  200.000000     200.000000       200.000000\n",
       "mean   100.500000    0.440000   38.850000      60.560000        50.200000\n",
       "std     57.879185    0.497633   13.969007      26.264721        25.823522\n",
       "min      1.000000    0.000000   18.000000      15.000000         1.000000\n",
       "25%     50.750000    0.000000   28.750000      41.500000        34.750000\n",
       "50%    100.500000    0.000000   36.000000      61.500000        50.000000\n",
       "75%    150.250000    1.000000   49.000000      78.000000        73.000000\n",
       "max    200.000000    1.000000   70.000000     137.000000        99.000000"
      ]
     },
     "execution_count": 57,
     "metadata": {},
     "output_type": "execute_result"
    }
   ],
   "source": [
    "ds.describe()"
   ]
  },
  {
   "cell_type": "code",
   "execution_count": 58,
   "id": "7d8a9e59",
   "metadata": {},
   "outputs": [
    {
     "data": {
      "text/plain": [
       "CustomerID         100.50\n",
       "Gender               0.44\n",
       "Age                 38.85\n",
       "annual_income       60.56\n",
       "spending_scores     50.20\n",
       "dtype: float64"
      ]
     },
     "execution_count": 58,
     "metadata": {},
     "output_type": "execute_result"
    }
   ],
   "source": [
    "#Mean\n",
    "\n",
    "ds.mean()"
   ]
  },
  {
   "cell_type": "code",
   "execution_count": 59,
   "id": "f17e6b6a",
   "metadata": {},
   "outputs": [
    {
     "data": {
      "text/plain": [
       "CustomerID         100.5\n",
       "Gender               0.0\n",
       "Age                 36.0\n",
       "annual_income       61.5\n",
       "spending_scores     50.0\n",
       "dtype: float64"
      ]
     },
     "execution_count": 59,
     "metadata": {},
     "output_type": "execute_result"
    }
   ],
   "source": [
    "#Median\n",
    "\n",
    "ds.median()"
   ]
  },
  {
   "cell_type": "code",
   "execution_count": 60,
   "id": "a4061e46",
   "metadata": {},
   "outputs": [
    {
     "data": {
      "text/html": [
       "<div>\n",
       "<style scoped>\n",
       "    .dataframe tbody tr th:only-of-type {\n",
       "        vertical-align: middle;\n",
       "    }\n",
       "\n",
       "    .dataframe tbody tr th {\n",
       "        vertical-align: top;\n",
       "    }\n",
       "\n",
       "    .dataframe thead th {\n",
       "        text-align: right;\n",
       "    }\n",
       "</style>\n",
       "<table border=\"1\" class=\"dataframe\">\n",
       "  <thead>\n",
       "    <tr style=\"text-align: right;\">\n",
       "      <th></th>\n",
       "      <th>CustomerID</th>\n",
       "      <th>Gender</th>\n",
       "      <th>Age</th>\n",
       "      <th>annual_income</th>\n",
       "      <th>spending_scores</th>\n",
       "    </tr>\n",
       "  </thead>\n",
       "  <tbody>\n",
       "    <tr>\n",
       "      <th>0</th>\n",
       "      <td>1</td>\n",
       "      <td>0.0</td>\n",
       "      <td>32.0</td>\n",
       "      <td>54.0</td>\n",
       "      <td>42.0</td>\n",
       "    </tr>\n",
       "    <tr>\n",
       "      <th>1</th>\n",
       "      <td>2</td>\n",
       "      <td>NaN</td>\n",
       "      <td>NaN</td>\n",
       "      <td>78.0</td>\n",
       "      <td>NaN</td>\n",
       "    </tr>\n",
       "    <tr>\n",
       "      <th>2</th>\n",
       "      <td>3</td>\n",
       "      <td>NaN</td>\n",
       "      <td>NaN</td>\n",
       "      <td>NaN</td>\n",
       "      <td>NaN</td>\n",
       "    </tr>\n",
       "    <tr>\n",
       "      <th>3</th>\n",
       "      <td>4</td>\n",
       "      <td>NaN</td>\n",
       "      <td>NaN</td>\n",
       "      <td>NaN</td>\n",
       "      <td>NaN</td>\n",
       "    </tr>\n",
       "    <tr>\n",
       "      <th>4</th>\n",
       "      <td>5</td>\n",
       "      <td>NaN</td>\n",
       "      <td>NaN</td>\n",
       "      <td>NaN</td>\n",
       "      <td>NaN</td>\n",
       "    </tr>\n",
       "    <tr>\n",
       "      <th>...</th>\n",
       "      <td>...</td>\n",
       "      <td>...</td>\n",
       "      <td>...</td>\n",
       "      <td>...</td>\n",
       "      <td>...</td>\n",
       "    </tr>\n",
       "    <tr>\n",
       "      <th>195</th>\n",
       "      <td>196</td>\n",
       "      <td>NaN</td>\n",
       "      <td>NaN</td>\n",
       "      <td>NaN</td>\n",
       "      <td>NaN</td>\n",
       "    </tr>\n",
       "    <tr>\n",
       "      <th>196</th>\n",
       "      <td>197</td>\n",
       "      <td>NaN</td>\n",
       "      <td>NaN</td>\n",
       "      <td>NaN</td>\n",
       "      <td>NaN</td>\n",
       "    </tr>\n",
       "    <tr>\n",
       "      <th>197</th>\n",
       "      <td>198</td>\n",
       "      <td>NaN</td>\n",
       "      <td>NaN</td>\n",
       "      <td>NaN</td>\n",
       "      <td>NaN</td>\n",
       "    </tr>\n",
       "    <tr>\n",
       "      <th>198</th>\n",
       "      <td>199</td>\n",
       "      <td>NaN</td>\n",
       "      <td>NaN</td>\n",
       "      <td>NaN</td>\n",
       "      <td>NaN</td>\n",
       "    </tr>\n",
       "    <tr>\n",
       "      <th>199</th>\n",
       "      <td>200</td>\n",
       "      <td>NaN</td>\n",
       "      <td>NaN</td>\n",
       "      <td>NaN</td>\n",
       "      <td>NaN</td>\n",
       "    </tr>\n",
       "  </tbody>\n",
       "</table>\n",
       "<p>200 rows × 5 columns</p>\n",
       "</div>"
      ],
      "text/plain": [
       "     CustomerID  Gender   Age  annual_income  spending_scores\n",
       "0             1     0.0  32.0           54.0             42.0\n",
       "1             2     NaN   NaN           78.0              NaN\n",
       "2             3     NaN   NaN            NaN              NaN\n",
       "3             4     NaN   NaN            NaN              NaN\n",
       "4             5     NaN   NaN            NaN              NaN\n",
       "..          ...     ...   ...            ...              ...\n",
       "195         196     NaN   NaN            NaN              NaN\n",
       "196         197     NaN   NaN            NaN              NaN\n",
       "197         198     NaN   NaN            NaN              NaN\n",
       "198         199     NaN   NaN            NaN              NaN\n",
       "199         200     NaN   NaN            NaN              NaN\n",
       "\n",
       "[200 rows x 5 columns]"
      ]
     },
     "execution_count": 60,
     "metadata": {},
     "output_type": "execute_result"
    }
   ],
   "source": [
    "#Mode\n",
    "\n",
    "ds.mode()"
   ]
  },
  {
   "cell_type": "code",
   "execution_count": 61,
   "id": "a756748b",
   "metadata": {},
   "outputs": [
    {
     "data": {
      "text/plain": [
       "CustomerID         57.879185\n",
       "Gender              0.497633\n",
       "Age                13.969007\n",
       "annual_income      26.264721\n",
       "spending_scores    25.823522\n",
       "dtype: float64"
      ]
     },
     "execution_count": 61,
     "metadata": {},
     "output_type": "execute_result"
    }
   ],
   "source": [
    "#Standard Deviation\n",
    "\n",
    "ds.std()"
   ]
  },
  {
   "cell_type": "markdown",
   "id": "0396dd69",
   "metadata": {},
   "source": [
    "# 5. Checking and Dealing with missing values"
   ]
  },
  {
   "cell_type": "code",
   "execution_count": 62,
   "id": "e8f8ba12",
   "metadata": {},
   "outputs": [
    {
     "data": {
      "text/plain": [
       "CustomerID         0\n",
       "Gender             0\n",
       "Age                0\n",
       "annual_income      0\n",
       "spending_scores    0\n",
       "dtype: int64"
      ]
     },
     "execution_count": 62,
     "metadata": {},
     "output_type": "execute_result"
    }
   ],
   "source": [
    "ds.isnull().sum()"
   ]
  },
  {
   "cell_type": "markdown",
   "id": "8f9281cc",
   "metadata": {},
   "source": [
    "# 6. Outliers and Replacing them"
   ]
  },
  {
   "cell_type": "code",
   "execution_count": 63,
   "id": "5cc289f2",
   "metadata": {},
   "outputs": [
    {
     "data": {
      "text/html": [
       "<div>\n",
       "<style scoped>\n",
       "    .dataframe tbody tr th:only-of-type {\n",
       "        vertical-align: middle;\n",
       "    }\n",
       "\n",
       "    .dataframe tbody tr th {\n",
       "        vertical-align: top;\n",
       "    }\n",
       "\n",
       "    .dataframe thead th {\n",
       "        text-align: right;\n",
       "    }\n",
       "</style>\n",
       "<table border=\"1\" class=\"dataframe\">\n",
       "  <thead>\n",
       "    <tr style=\"text-align: right;\">\n",
       "      <th></th>\n",
       "      <th>CustomerID</th>\n",
       "      <th>Gender</th>\n",
       "      <th>Age</th>\n",
       "      <th>annual_income</th>\n",
       "      <th>spending_scores</th>\n",
       "    </tr>\n",
       "  </thead>\n",
       "  <tbody>\n",
       "    <tr>\n",
       "      <th>0.25</th>\n",
       "      <td>50.75</td>\n",
       "      <td>0.0</td>\n",
       "      <td>28.75</td>\n",
       "      <td>41.5</td>\n",
       "      <td>34.75</td>\n",
       "    </tr>\n",
       "    <tr>\n",
       "      <th>0.75</th>\n",
       "      <td>150.25</td>\n",
       "      <td>1.0</td>\n",
       "      <td>49.00</td>\n",
       "      <td>78.0</td>\n",
       "      <td>73.00</td>\n",
       "    </tr>\n",
       "  </tbody>\n",
       "</table>\n",
       "</div>"
      ],
      "text/plain": [
       "      CustomerID  Gender    Age  annual_income  spending_scores\n",
       "0.25       50.75     0.0  28.75           41.5            34.75\n",
       "0.75      150.25     1.0  49.00           78.0            73.00"
      ]
     },
     "execution_count": 63,
     "metadata": {},
     "output_type": "execute_result"
    }
   ],
   "source": [
    "outliers=ds.quantile(q=(0.25,0.75))\n",
    "outliers"
   ]
  },
  {
   "cell_type": "code",
   "execution_count": 64,
   "id": "17579a5b",
   "metadata": {},
   "outputs": [
    {
     "data": {
      "text/plain": [
       "CustomerID         100.5\n",
       "Gender               0.0\n",
       "Age                 36.0\n",
       "annual_income       61.5\n",
       "spending_scores     50.0\n",
       "dtype: float64"
      ]
     },
     "execution_count": 64,
     "metadata": {},
     "output_type": "execute_result"
    }
   ],
   "source": [
    "Q1 = ds.Age.quantile(0.25)\n",
    "Q3 = ds.Age.quantile(0.75)\n",
    "IQR = Q3 - Q1\n",
    "lower_limit = Q1 - 1.5 * IQR\n",
    "ds.median(numeric_only=True)"
   ]
  },
  {
   "cell_type": "code",
   "execution_count": 65,
   "id": "54ee7fba",
   "metadata": {},
   "outputs": [],
   "source": [
    "ds['Age'] = np.where(ds['Age'] < lower_limit, 7, ds['Age'])"
   ]
  },
  {
   "cell_type": "code",
   "execution_count": 66,
   "id": "81eeb0f9",
   "metadata": {},
   "outputs": [
    {
     "data": {
      "text/plain": [
       "<AxesSubplot:xlabel='Age'>"
      ]
     },
     "execution_count": 66,
     "metadata": {},
     "output_type": "execute_result"
    },
    {
     "data": {
      "image/png": "[encoded data removed]",
      "text/plain": [
       "<Figure size 432x288 with 1 Axes>"
      ]
     },
     "metadata": {
      "needs_background": "light"
     },
     "output_type": "display_data"
    }
   ],
   "source": [
    "sns.boxplot(x=ds.Age,showfliers = False)"
   ]
  },
  {
   "cell_type": "markdown",
   "id": "cf18b191",
   "metadata": {},
   "source": [
    "# 7.Checking for Categorical columns and perform Encoding"
   ]
  },
  {
   "cell_type": "code",
   "execution_count": 67,
   "id": "0591cc35",
   "metadata": {},
   "outputs": [
    {
     "data": {
      "text/html": [
       "<div>\n",
       "<style scoped>\n",
       "    .dataframe tbody tr th:only-of-type {\n",
       "        vertical-align: middle;\n",
       "    }\n",
       "\n",
       "    .dataframe tbody tr th {\n",
       "        vertical-align: top;\n",
       "    }\n",
       "\n",
       "    .dataframe thead th {\n",
       "        text-align: right;\n",
       "    }\n",
       "</style>\n",
       "<table border=\"1\" class=\"dataframe\">\n",
       "  <thead>\n",
       "    <tr style=\"text-align: right;\">\n",
       "      <th></th>\n",
       "      <th>CustomerID</th>\n",
       "      <th>Gender</th>\n",
       "      <th>Age</th>\n",
       "      <th>annual_income</th>\n",
       "      <th>spending_scores</th>\n",
       "    </tr>\n",
       "  </thead>\n",
       "  <tbody>\n",
       "    <tr>\n",
       "      <th>0</th>\n",
       "      <td>1</td>\n",
       "      <td>1</td>\n",
       "      <td>19</td>\n",
       "      <td>15</td>\n",
       "      <td>39</td>\n",
       "    </tr>\n",
       "    <tr>\n",
       "      <th>1</th>\n",
       "      <td>2</td>\n",
       "      <td>1</td>\n",
       "      <td>21</td>\n",
       "      <td>15</td>\n",
       "      <td>81</td>\n",
       "    </tr>\n",
       "    <tr>\n",
       "      <th>2</th>\n",
       "      <td>3</td>\n",
       "      <td>0</td>\n",
       "      <td>20</td>\n",
       "      <td>16</td>\n",
       "      <td>6</td>\n",
       "    </tr>\n",
       "    <tr>\n",
       "      <th>3</th>\n",
       "      <td>4</td>\n",
       "      <td>0</td>\n",
       "      <td>23</td>\n",
       "      <td>16</td>\n",
       "      <td>77</td>\n",
       "    </tr>\n",
       "    <tr>\n",
       "      <th>4</th>\n",
       "      <td>5</td>\n",
       "      <td>0</td>\n",
       "      <td>31</td>\n",
       "      <td>17</td>\n",
       "      <td>40</td>\n",
       "    </tr>\n",
       "  </tbody>\n",
       "</table>\n",
       "</div>"
      ],
      "text/plain": [
       "   CustomerID  Gender  Age  annual_income  spending_scores\n",
       "0           1       1   19             15               39\n",
       "1           2       1   21             15               81\n",
       "2           3       0   20             16                6\n",
       "3           4       0   23             16               77\n",
       "4           5       0   31             17               40"
      ]
     },
     "execution_count": 67,
     "metadata": {},
     "output_type": "execute_result"
    }
   ],
   "source": [
    "ds.head()"
   ]
  },
  {
   "cell_type": "code",
   "execution_count": 68,
   "id": "aecb4494",
   "metadata": {},
   "outputs": [
    {
     "data": {
      "text/plain": [
       "Index(['CustomerID', 'Gender', 'Age', 'annual_income', 'spending_scores'], dtype='object')"
      ]
     },
     "execution_count": 68,
     "metadata": {},
     "output_type": "execute_result"
    }
   ],
   "source": [
    "ds.columns"
   ]
  },
  {
   "cell_type": "code",
   "execution_count": 69,
   "id": "8e250c3b",
   "metadata": {},
   "outputs": [
    {
     "data": {
      "text/html": [
       "<div>\n",
       "<style scoped>\n",
       "    .dataframe tbody tr th:only-of-type {\n",
       "        vertical-align: middle;\n",
       "    }\n",
       "\n",
       "    .dataframe tbody tr th {\n",
       "        vertical-align: top;\n",
       "    }\n",
       "\n",
       "    .dataframe thead th {\n",
       "        text-align: right;\n",
       "    }\n",
       "</style>\n",
       "<table border=\"1\" class=\"dataframe\">\n",
       "  <thead>\n",
       "    <tr style=\"text-align: right;\">\n",
       "      <th></th>\n",
       "      <th>Age</th>\n",
       "      <th>CustomerID</th>\n",
       "    </tr>\n",
       "  </thead>\n",
       "  <tbody>\n",
       "    <tr>\n",
       "      <th>0</th>\n",
       "      <td>19</td>\n",
       "      <td>1</td>\n",
       "    </tr>\n",
       "    <tr>\n",
       "      <th>1</th>\n",
       "      <td>21</td>\n",
       "      <td>2</td>\n",
       "    </tr>\n",
       "    <tr>\n",
       "      <th>2</th>\n",
       "      <td>20</td>\n",
       "      <td>3</td>\n",
       "    </tr>\n",
       "    <tr>\n",
       "      <th>3</th>\n",
       "      <td>23</td>\n",
       "      <td>4</td>\n",
       "    </tr>\n",
       "    <tr>\n",
       "      <th>4</th>\n",
       "      <td>31</td>\n",
       "      <td>5</td>\n",
       "    </tr>\n",
       "  </tbody>\n",
       "</table>\n",
       "</div>"
      ],
      "text/plain": [
       "   Age  CustomerID\n",
       "0   19           1\n",
       "1   21           2\n",
       "2   20           3\n",
       "3   23           4\n",
       "4   31           5"
      ]
     },
     "execution_count": 69,
     "metadata": {},
     "output_type": "execute_result"
    }
   ],
   "source": [
    "x=ds[[\"Age\",\"CustomerID\"]]\n",
    "x.head()"
   ]
  },
  {
   "cell_type": "code",
   "execution_count": 70,
   "id": "b24eeb3e",
   "metadata": {},
   "outputs": [
    {
     "data": {
      "text/plain": [
       "array([[-1.42456879, -1.7234121 ],\n",
       "       [-1.28103541, -1.70609137],\n",
       "       [-1.3528021 , -1.68877065],\n",
       "       [-1.13750203, -1.67144992],\n",
       "       [-0.56336851, -1.6541292 ],\n",
       "       [-1.20926872, -1.63680847],\n",
       "       [-0.27630176, -1.61948775],\n",
       "       [-1.13750203, -1.60216702],\n",
       "       [ 1.80493225, -1.5848463 ],\n",
       "       [-0.6351352 , -1.56752558],\n",
       "       [ 2.02023231, -1.55020485],\n",
       "       [-0.27630176, -1.53288413],\n",
       "       [ 1.37433211, -1.5155634 ],\n",
       "       [-1.06573534, -1.49824268],\n",
       "       [-0.13276838, -1.48092195],\n",
       "       [-1.20926872, -1.46360123],\n",
       "       [-0.27630176, -1.4462805 ],\n",
       "       [-1.3528021 , -1.42895978],\n",
       "       [ 0.94373197, -1.41163905],\n",
       "       [-0.27630176, -1.39431833],\n",
       "       [-0.27630176, -1.3769976 ],\n",
       "       [-0.99396865, -1.35967688],\n",
       "       [ 0.51313183, -1.34235616],\n",
       "       [-0.56336851, -1.32503543],\n",
       "       [ 1.08726535, -1.30771471],\n",
       "       [-0.70690189, -1.29039398],\n",
       "       [ 0.44136514, -1.27307326],\n",
       "       [-0.27630176, -1.25575253],\n",
       "       [ 0.08253169, -1.23843181],\n",
       "       [-1.13750203, -1.22111108],\n",
       "       [ 1.51786549, -1.20379036],\n",
       "       [-1.28103541, -1.18646963],\n",
       "       [ 1.01549866, -1.16914891],\n",
       "       [-1.49633548, -1.15182818],\n",
       "       [ 0.7284319 , -1.13450746],\n",
       "       [-1.28103541, -1.11718674],\n",
       "       [ 0.22606507, -1.09986601],\n",
       "       [-0.6351352 , -1.08254529],\n",
       "       [-0.20453507, -1.06522456],\n",
       "       [-1.3528021 , -1.04790384],\n",
       "       [ 1.87669894, -1.03058311],\n",
       "       [-1.06573534, -1.01326239],\n",
       "       [ 0.65666521, -0.99594166],\n",
       "       [-0.56336851, -0.97862094],\n",
       "       [ 0.7284319 , -0.96130021],\n",
       "       [-1.06573534, -0.94397949],\n",
       "       [ 0.80019859, -0.92665877],\n",
       "       [-0.85043527, -0.90933804],\n",
       "       [-0.70690189, -0.89201732],\n",
       "       [-0.56336851, -0.87469659],\n",
       "       [ 0.7284319 , -0.85737587],\n",
       "       [-0.41983513, -0.84005514],\n",
       "       [-0.56336851, -0.82273442],\n",
       "       [ 1.4460988 , -0.80541369],\n",
       "       [ 0.80019859, -0.78809297],\n",
       "       [ 0.58489852, -0.77077224],\n",
       "       [ 0.87196528, -0.75345152],\n",
       "       [ 2.16376569, -0.73613079],\n",
       "       [-0.85043527, -0.71881007],\n",
       "       [ 1.01549866, -0.70148935],\n",
       "       [ 2.23553238, -0.68416862],\n",
       "       [-1.42456879, -0.6668479 ],\n",
       "       [ 2.02023231, -0.64952717],\n",
       "       [ 1.08726535, -0.63220645],\n",
       "       [ 1.73316556, -0.61488572],\n",
       "       [-1.49633548, -0.597565  ],\n",
       "       [ 0.29783176, -0.58024427],\n",
       "       [ 2.091999  , -0.56292355],\n",
       "       [-1.42456879, -0.54560282],\n",
       "       [-0.49160182, -0.5282821 ],\n",
       "       [ 2.23553238, -0.51096138],\n",
       "       [ 0.58489852, -0.49364065],\n",
       "       [ 1.51786549, -0.47631993],\n",
       "       [ 1.51786549, -0.4589992 ],\n",
       "       [ 1.4460988 , -0.44167848],\n",
       "       [-0.92220196, -0.42435775],\n",
       "       [ 0.44136514, -0.40703703],\n",
       "       [ 0.08253169, -0.3897163 ],\n",
       "       [-1.13750203, -0.37239558],\n",
       "       [ 0.7284319 , -0.35507485],\n",
       "       [ 1.30256542, -0.33775413],\n",
       "       [-0.06100169, -0.3204334 ],\n",
       "       [ 2.02023231, -0.30311268],\n",
       "       [ 0.51313183, -0.28579196],\n",
       "       [-1.28103541, -0.26847123],\n",
       "       [ 0.65666521, -0.25115051],\n",
       "       [ 1.15903204, -0.23382978],\n",
       "       [-1.20926872, -0.21650906],\n",
       "       [-0.34806844, -0.19918833],\n",
       "       [ 0.80019859, -0.18186761],\n",
       "       [ 2.091999  , -0.16454688],\n",
       "       [-1.49633548, -0.14722616],\n",
       "       [ 0.65666521, -0.12990543],\n",
       "       [ 0.08253169, -0.11258471],\n",
       "       [-0.49160182, -0.09526399],\n",
       "       [-1.06573534, -0.07794326],\n",
       "       [ 0.58489852, -0.06062254],\n",
       "       [-0.85043527, -0.04330181],\n",
       "       [ 0.65666521, -0.02598109],\n",
       "       [-1.3528021 , -0.00866036],\n",
       "       [-1.13750203,  0.00866036],\n",
       "       [ 0.7284319 ,  0.02598109],\n",
       "       [ 2.02023231,  0.04330181],\n",
       "       [-0.92220196,  0.06062254],\n",
       "       [ 0.7284319 ,  0.07794326],\n",
       "       [-1.28103541,  0.09526399],\n",
       "       [ 1.94846562,  0.11258471],\n",
       "       [ 1.08726535,  0.12990543],\n",
       "       [ 2.091999  ,  0.14722616],\n",
       "       [ 1.94846562,  0.16454688],\n",
       "       [ 1.87669894,  0.18186761],\n",
       "       [-1.42456879,  0.19918833],\n",
       "       [-0.06100169,  0.21650906],\n",
       "       [-1.42456879,  0.23382978],\n",
       "       [-1.49633548,  0.25115051],\n",
       "       [-1.42456879,  0.26847123],\n",
       "       [ 1.73316556,  0.28579196],\n",
       "       [ 0.7284319 ,  0.30311268],\n",
       "       [ 0.87196528,  0.3204334 ],\n",
       "       [ 0.80019859,  0.33775413],\n",
       "       [-0.85043527,  0.35507485],\n",
       "       [-0.06100169,  0.37239558],\n",
       "       [ 0.08253169,  0.3897163 ],\n",
       "       [ 0.010765  ,  0.40703703],\n",
       "       [-1.13750203,  0.42435775],\n",
       "       [-0.56336851,  0.44167848],\n",
       "       [ 0.29783176,  0.4589992 ],\n",
       "       [ 0.08253169,  0.47631993],\n",
       "       [ 1.4460988 ,  0.49364065],\n",
       "       [-0.06100169,  0.51096138],\n",
       "       [ 0.58489852,  0.5282821 ],\n",
       "       [ 0.010765  ,  0.54560282],\n",
       "       [-0.99396865,  0.56292355],\n",
       "       [-0.56336851,  0.58024427],\n",
       "       [-1.3528021 ,  0.597565  ],\n",
       "       [-0.70690189,  0.61488572],\n",
       "       [ 0.36959845,  0.63220645],\n",
       "       [-0.49160182,  0.64952717],\n",
       "       [-1.42456879,  0.6668479 ],\n",
       "       [-0.27630176,  0.68416862],\n",
       "       [ 1.30256542,  0.70148935],\n",
       "       [-0.49160182,  0.71881007],\n",
       "       [-0.77866858,  0.73613079],\n",
       "       [-0.49160182,  0.75345152],\n",
       "       [-0.99396865,  0.77077224],\n",
       "       [-0.77866858,  0.78809297],\n",
       "       [ 0.65666521,  0.80541369],\n",
       "       [-0.49160182,  0.82273442],\n",
       "       [-0.34806844,  0.84005514],\n",
       "       [-0.34806844,  0.85737587],\n",
       "       [ 0.29783176,  0.87469659],\n",
       "       [ 0.010765  ,  0.89201732],\n",
       "       [ 0.36959845,  0.90933804],\n",
       "       [-0.06100169,  0.92665877],\n",
       "       [ 0.58489852,  0.94397949],\n",
       "       [-0.85043527,  0.96130021],\n",
       "       [-0.13276838,  0.97862094],\n",
       "       [-0.6351352 ,  0.99594166],\n",
       "       [-0.34806844,  1.01326239],\n",
       "       [-0.6351352 ,  1.03058311],\n",
       "       [ 1.23079873,  1.04790384],\n",
       "       [-0.70690189,  1.06522456],\n",
       "       [-1.42456879,  1.08254529],\n",
       "       [-0.56336851,  1.09986601],\n",
       "       [ 0.80019859,  1.11718674],\n",
       "       [-0.20453507,  1.13450746],\n",
       "       [ 0.22606507,  1.15182818],\n",
       "       [-0.41983513,  1.16914891],\n",
       "       [-0.20453507,  1.18646963],\n",
       "       [-0.49160182,  1.20379036],\n",
       "       [ 0.08253169,  1.22111108],\n",
       "       [-0.77866858,  1.23843181],\n",
       "       [-0.20453507,  1.25575253],\n",
       "       [-0.20453507,  1.27307326],\n",
       "       [ 0.94373197,  1.29039398],\n",
       "       [-0.6351352 ,  1.30771471],\n",
       "       [ 1.37433211,  1.32503543],\n",
       "       [-0.85043527,  1.34235616],\n",
       "       [ 1.4460988 ,  1.35967688],\n",
       "       [-0.27630176,  1.3769976 ],\n",
       "       [-0.13276838,  1.39431833],\n",
       "       [-0.49160182,  1.41163905],\n",
       "       [ 0.51313183,  1.42895978],\n",
       "       [-0.70690189,  1.4462805 ],\n",
       "       [ 0.15429838,  1.46360123],\n",
       "       [-0.6351352 ,  1.48092195],\n",
       "       [ 1.08726535,  1.49824268],\n",
       "       [-0.77866858,  1.5155634 ],\n",
       "       [ 0.15429838,  1.53288413],\n",
       "       [-0.20453507,  1.55020485],\n",
       "       [-0.34806844,  1.56752558],\n",
       "       [-0.49160182,  1.5848463 ],\n",
       "       [-0.41983513,  1.60216702],\n",
       "       [-0.06100169,  1.61948775],\n",
       "       [ 0.58489852,  1.63680847],\n",
       "       [-0.27630176,  1.6541292 ],\n",
       "       [ 0.44136514,  1.67144992],\n",
       "       [-0.49160182,  1.68877065],\n",
       "       [-0.49160182,  1.70609137],\n",
       "       [-0.6351352 ,  1.7234121 ]])"
      ]
     },
     "execution_count": 70,
     "metadata": {},
     "output_type": "execute_result"
    }
   ],
   "source": [
    "from sklearn.preprocessing import StandardScaler\n",
    "scale = StandardScaler()\n",
    "st_scale = scale.fit_transform(x)\n",
    "st_scale"
   ]
  },
  {
   "cell_type": "markdown",
   "id": "cc1ee7c7",
   "metadata": {},
   "source": [
    "# 9. Clustering"
   ]
  },
  {
   "cell_type": "code",
   "execution_count": 71,
   "id": "1d90f4be",
   "metadata": {},
   "outputs": [],
   "source": [
    "from sklearn.cluster import KMeans"
   ]
  },
  {
   "cell_type": "code",
   "execution_count": 72,
   "id": "bfd7ce33",
   "metadata": {},
   "outputs": [
    {
     "name": "stderr",
     "output_type": "stream",
     "text": [
      "C:\\Users\\AjinAbishek\\AppData\\Local\\Temp\\ipykernel_1096\\3806144439.py:1: SettingWithCopyWarning: \n",
      "A value is trying to be set on a copy of a slice from a DataFrame\n",
      "\n",
      "See the caveats in the documentation: https://pandas.pydata.org/pandas-docs/stable/user_guide/indexing.html#returning-a-view-versus-a-copy\n",
      "  x.drop('CustomerID',axis=1,inplace=True)\n"
     ]
    }
   ],
   "source": [
    "x.drop('CustomerID',axis=1,inplace=True)"
   ]
  },
  {
   "cell_type": "code",
   "execution_count": 73,
   "id": "a4542d42",
   "metadata": {},
   "outputs": [],
   "source": [
    "km = KMeans(n_clusters=3, random_state=0)"
   ]
  },
  {
   "cell_type": "code",
   "execution_count": 74,
   "id": "d210696e",
   "metadata": {},
   "outputs": [
    {
     "name": "stderr",
     "output_type": "stream",
     "text": [
      "C:\\Users\\AjinAbishek\\AppData\\Local\\Temp\\ipykernel_1096\\3721569487.py:1: SettingWithCopyWarning: \n",
      "A value is trying to be set on a copy of a slice from a DataFrame.\n",
      "Try using .loc[row_indexer,col_indexer] = value instead\n",
      "\n",
      "See the caveats in the documentation: https://pandas.pydata.org/pandas-docs/stable/user_guide/indexing.html#returning-a-view-versus-a-copy\n",
      "  x['Group or Cluster'] = km.fit_predict(x)\n"
     ]
    },
    {
     "data": {
      "text/html": [
       "<div>\n",
       "<style scoped>\n",
       "    .dataframe tbody tr th:only-of-type {\n",
       "        vertical-align: middle;\n",
       "    }\n",
       "\n",
       "    .dataframe tbody tr th {\n",
       "        vertical-align: top;\n",
       "    }\n",
       "\n",
       "    .dataframe thead th {\n",
       "        text-align: right;\n",
       "    }\n",
       "</style>\n",
       "<table border=\"1\" class=\"dataframe\">\n",
       "  <thead>\n",
       "    <tr style=\"text-align: right;\">\n",
       "      <th></th>\n",
       "      <th>Age</th>\n",
       "      <th>Group or Cluster</th>\n",
       "    </tr>\n",
       "  </thead>\n",
       "  <tbody>\n",
       "    <tr>\n",
       "      <th>0</th>\n",
       "      <td>19</td>\n",
       "      <td>0</td>\n",
       "    </tr>\n",
       "    <tr>\n",
       "      <th>1</th>\n",
       "      <td>21</td>\n",
       "      <td>0</td>\n",
       "    </tr>\n",
       "    <tr>\n",
       "      <th>2</th>\n",
       "      <td>20</td>\n",
       "      <td>0</td>\n",
       "    </tr>\n",
       "    <tr>\n",
       "      <th>3</th>\n",
       "      <td>23</td>\n",
       "      <td>0</td>\n",
       "    </tr>\n",
       "    <tr>\n",
       "      <th>4</th>\n",
       "      <td>31</td>\n",
       "      <td>0</td>\n",
       "    </tr>\n",
       "  </tbody>\n",
       "</table>\n",
       "</div>"
      ],
      "text/plain": [
       "   Age  Group or Cluster\n",
       "0   19                 0\n",
       "1   21                 0\n",
       "2   20                 0\n",
       "3   23                 0\n",
       "4   31                 0"
      ]
     },
     "execution_count": 74,
     "metadata": {},
     "output_type": "execute_result"
    }
   ],
   "source": [
    "x['Group or Cluster'] = km.fit_predict(x)\n",
    "x.head()"
   ]
  },
  {
   "cell_type": "code",
   "execution_count": 75,
   "id": "19152fc8",
   "metadata": {},
   "outputs": [
    {
     "data": {
      "text/plain": [
       "0    104\n",
       "2     62\n",
       "1     34\n",
       "Name: Group or Cluster, dtype: int64"
      ]
     },
     "execution_count": 75,
     "metadata": {},
     "output_type": "execute_result"
    }
   ],
   "source": [
    "x['Group or Cluster'].value_counts()"
   ]
  },
  {
   "cell_type": "code",
   "execution_count": 90,
   "id": "30860d3c",
   "metadata": {},
   "outputs": [
    {
     "data": {
      "image/png": "[encoded data removed]",
      "text/plain": [
       "<Figure size 1080x576 with 1 Axes>"
      ]
     },
     "metadata": {
      "needs_background": "light"
     },
     "output_type": "display_data"
    }
   ],
   "source": [
    "import matplotlib.pyplot as plt\n",
    "\n",
    "fig,ax = plt.subplots(figsize=(15,8))\n",
    "sns.scatterplot(x=ds['annual_income'],\n",
    "                y=ds['spending_scores'],\n",
    "                hue=x['Group or Cluster'])\n",
    "plt.show()"
   ]
  },
  {
   "cell_type": "code",
   "execution_count": 85,
   "id": "3cceb9b0",
   "metadata": {},
   "outputs": [
    {
     "data": {
      "text/plain": [
       "0.5720936424387716"
      ]
     },
     "execution_count": 85,
     "metadata": {},
     "output_type": "execute_result"
    }
   ],
   "source": [
    "from sklearn.metrics import silhouette_score, silhouette_samples\n",
    "score = silhouette_score(x, \n",
    "                         km.labels_, \n",
    "                         metric='euclidean')\n",
    "score"
   ]
  },
  {
   "cell_type": "code",
   "execution_count": null,
   "id": "672c3bcb",
   "metadata": {},
   "outputs": [],
   "source": []
  }
 ],
 "metadata": {
  "kernelspec": {
   "display_name": "Python 3 (ipykernel)",
   "language": "python",
   "name": "python3"
  },
  "language_info": {
   "codemirror_mode": {
    "name": "ipython",
    "version": 3
   },
   "file_extension": ".py",
   "mimetype": "text/x-python",
   "name": "python",
   "nbconvert_exporter": "python",
   "pygments_lexer": "ipython3",
   "version": "3.9.12"
  }
 },
 "nbformat": 4,
 "nbformat_minor": 5
}
